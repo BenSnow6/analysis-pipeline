{
 "cells": [
  {
   "cell_type": "code",
   "execution_count": 2,
   "metadata": {},
   "outputs": [
    {
     "name": "stdout",
     "output_type": "stream",
     "text": [
      "Created folder: 1a_1_Minimum_Radius_Turn\n",
      "Created folder: 1a_2_Rate_of_Turn_vs_Nosewheel_Steering_Angle\n",
      "Created folder: 1b_1_Ground_Acceleration_Time_and_Distance\n",
      "Created folder: 1b_4_Normal_Take_off\n",
      "Created folder: 1c_1_Normal_Climb_All_Engines_Operating\n",
      "Created folder: 1d_1_Level_Flight_Acceleration\n",
      "Created folder: 1d_2_Level_Flight_Deceleration\n",
      "Created folder: 1e_1_Deceleration_Time_and_Distance_Manual_Wheel_Brakes_Dry_Runway_No_Reverse_Thrust\n"
     ]
    }
   ],
   "source": [
    "def create_experiment_folders():\n",
    "    folders = [\n",
    "        \"1a_1_Minimum_Radius_Turn\",\n",
    "        \"1a_2_Rate_of_Turn_vs_Nosewheel_Steering_Angle\", \n",
    "        \"1b_1_Ground_Acceleration_Time_and_Distance\",\n",
    "        \"1b_4_Normal_Take_off\",\n",
    "        \"1c_1_Normal_Climb_All_Engines_Operating\",\n",
    "        \"1d_1_Level_Flight_Acceleration\",\n",
    "        \"1d_2_Level_Flight_Deceleration\",\n",
    "        \"1e_1_Deceleration_Time_and_Distance_Manual_Wheel_Brakes_Dry_Runway_No_Reverse_Thrust\"\n",
    "    ]\n",
    "    \n",
    "    import os\n",
    "    for folder in folders:\n",
    "        try:\n",
    "            os.makedirs(folder)\n",
    "            print(f\"Created folder: {folder}\")\n",
    "        except FileExistsError:\n",
    "            print(f\"Folder already exists: {folder}\")\n",
    "\n",
    "if __name__ == \"__main__\":\n",
    "    create_experiment_folders()\n"
   ]
  },
  {
   "cell_type": "code",
   "execution_count": null,
   "metadata": {},
   "outputs": [],
   "source": []
  }
 ],
 "metadata": {
  "kernelspec": {
   "display_name": "engd",
   "language": "python",
   "name": "python3"
  },
  "language_info": {
   "codemirror_mode": {
    "name": "ipython",
    "version": 3
   },
   "file_extension": ".py",
   "mimetype": "text/x-python",
   "name": "python",
   "nbconvert_exporter": "python",
   "pygments_lexer": "ipython3",
   "version": "3.11.7"
  }
 },
 "nbformat": 4,
 "nbformat_minor": 2
}
